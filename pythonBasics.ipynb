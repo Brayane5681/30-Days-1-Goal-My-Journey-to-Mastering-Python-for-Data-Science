{
 "cells": [
  {
   "cell_type": "markdown",
   "id": "4b18e0c8",
   "metadata": {},
   "source": [
    "Variables\n"
   ]
  },
  {
   "cell_type": "code",
   "execution_count": null,
   "id": "1c1af9e7",
   "metadata": {},
   "outputs": [
    {
     "name": "stdout",
     "output_type": "stream",
     "text": [
      "Alice\n",
      "24\n",
      "5.7\n"
     ]
    }
   ],
   "source": [
    "name = \"Alice\"\n",
    "age = 24\n",
    "height = 5.7\n",
    "\n",
    "print(name)\n",
    "print(age)\n",
    "print(height)\n",
    "\n"
   ]
  },
  {
   "cell_type": "markdown",
   "id": "084348d8",
   "metadata": {},
   "source": [
    "Data Types"
   ]
  },
  {
   "cell_type": "code",
   "execution_count": null,
   "id": "e263e8ab",
   "metadata": {},
   "outputs": [],
   "source": [
    "age = 25 #int\n",
    "pi = 3.14 #float\n",
    "name =\"Alice\" #str\n",
    "is_student = True #bool\n",
    "fruits = [\"apple\", \"banana\"] #list\n",
    "person ={\"name\": \"Alice\", \"Age\": 25} #dict"
   ]
  },
  {
   "cell_type": "markdown",
   "id": "7051f4ec",
   "metadata": {},
   "source": [
    "Basic Operators"
   ]
  },
  {
   "cell_type": "code",
   "execution_count": null,
   "id": "2abcce51",
   "metadata": {},
   "outputs": [
    {
     "name": "stdout",
     "output_type": "stream",
     "text": [
      "7\n",
      "3\n",
      "10\n",
      "2.5\n",
      "1\n",
      "25\n",
      "True\n",
      "False\n"
     ]
    }
   ],
   "source": [
    "print(5 + 2)   # Addition\n",
    "print(5 - 2)   # Subtraction\n",
    "print(5 * 2)   # Multiplication\n",
    "print(5 / 2)   # Division\n",
    "print(5 % 2)   # Modulo remainder\n",
    "print(5 ** 2)  # Exponent power\n",
    "\n",
    "# Comparison\n",
    "print(5 > 2)\n",
    "print(5 == 2)"
   ]
  },
  {
   "cell_type": "markdown",
   "id": "0c9191a2",
   "metadata": {},
   "source": [
    "✅ 3. Control Structures"
   ]
  },
  {
   "cell_type": "markdown",
   "id": "066f6407",
   "metadata": {},
   "source": [
    "If-Else Statements"
   ]
  },
  {
   "cell_type": "code",
   "execution_count": null,
   "id": "cb497665",
   "metadata": {},
   "outputs": [
    {
     "name": "stdout",
     "output_type": "stream",
     "text": [
      "You are a minor!\n"
     ]
    }
   ],
   "source": [
    "age =10\n",
    "\n",
    "if age >= 18:\n",
    "    print(\"You are an Adult!\")\n",
    "else:\n",
    "    print(\"You are a minor!\")"
   ]
  },
  {
   "cell_type": "markdown",
   "id": "6790b54e",
   "metadata": {},
   "source": [
    "3.2 Loops"
   ]
  },
  {
   "cell_type": "code",
   "execution_count": null,
   "id": "3bcbd610",
   "metadata": {},
   "outputs": [
    {
     "name": "stdout",
     "output_type": "stream",
     "text": [
      "0\n",
      "1\n",
      "2\n",
      "3\n"
     ]
    }
   ],
   "source": [
    "#For loop\n",
    "for i in range(4):\n",
    "    print(i)\n",
    "\n",
    "\n"
   ]
  },
  {
   "cell_type": "code",
   "execution_count": 14,
   "id": "f03ecb23",
   "metadata": {},
   "outputs": [
    {
     "name": "stdout",
     "output_type": "stream",
     "text": [
      "0\n",
      "1\n",
      "2\n",
      "3\n",
      "4\n",
      "5\n"
     ]
    }
   ],
   "source": [
    "#while loop\n",
    "count = 0\n",
    "while count <=5:\n",
    "    print(count)\n",
    "    count +=1"
   ]
  },
  {
   "cell_type": "markdown",
   "id": "a3272de8",
   "metadata": {},
   "source": [
    "✅ 4. Functions\n",
    "\n",
    "🟦 Defining and Calling Functions"
   ]
  },
  {
   "cell_type": "code",
   "execution_count": null,
   "id": "110565b2",
   "metadata": {},
   "outputs": [
    {
     "name": "stdout",
     "output_type": "stream",
     "text": [
      "Hello, Alice\n"
     ]
    }
   ],
   "source": [
    "def greet(name):\n",
    "    print(f\"Hello, {name}\")\n",
    "\n",
    "greet(\"Alice\")"
   ]
  },
  {
   "cell_type": "markdown",
   "id": "4fdeb79f",
   "metadata": {},
   "source": [
    "🟦 Function With Return Value"
   ]
  },
  {
   "cell_type": "code",
   "execution_count": null,
   "id": "d411e550",
   "metadata": {},
   "outputs": [
    {
     "data": {
      "text/plain": [
       "12"
      ]
     },
     "execution_count": 19,
     "metadata": {},
     "output_type": "execute_result"
    }
   ],
   "source": [
    "def add(a,b):\n",
    "    return a * b\n",
    "\n",
    "add(3,4)"
   ]
  },
  {
   "cell_type": "markdown",
   "id": "172a29b6",
   "metadata": {},
   "source": [
    "✅ 5. Practice Projects\n",
    "\n",
    "🧮 Simple Calculator"
   ]
  },
  {
   "cell_type": "code",
   "execution_count": null,
   "id": "08257a8c",
   "metadata": {},
   "outputs": [
    {
     "name": "stdout",
     "output_type": "stream",
     "text": [
      "15\n",
      "50\n"
     ]
    }
   ],
   "source": [
    "def cal (a, b , operation):\n",
    "    if operation == \"add\":\n",
    "        return a + b\n",
    "    elif operation == \"subtract\":\n",
    "        return a - b\n",
    "    elif operation == \"multiply\":\n",
    "        return a * b\n",
    "    elif operation == \"divide\":\n",
    "        return a / b\n",
    "    else:\n",
    "        return\"Uknown Operation\"\n",
    "    \n",
    "print(cal(10,5,\"add\"))\n",
    "print(cal(10,5,\"multiply\"))"
   ]
  },
  {
   "cell_type": "markdown",
   "id": "00ea11e8",
   "metadata": {},
   "source": [
    "Loop Practice: Multiplication Table"
   ]
  },
  {
   "cell_type": "code",
   "execution_count": 18,
   "id": "bf85d4b7",
   "metadata": {},
   "outputs": [
    {
     "name": "stdout",
     "output_type": "stream",
     "text": [
      "10 x 4 = 40\n",
      "10 x 5 = 50\n",
      "10 x 6 = 60\n",
      "10 x 7 = 70\n",
      "10 x 8 = 80\n",
      "10 x 9 = 90\n",
      "10 x 10 = 100\n",
      "10 x 11 = 110\n",
      "10 x 12 = 120\n",
      "10 x 13 = 130\n",
      "10 x 14 = 140\n",
      "10 x 15 = 150\n",
      "10 x 16 = 160\n",
      "10 x 17 = 170\n",
      "10 x 18 = 180\n",
      "10 x 19 = 190\n"
     ]
    }
   ],
   "source": [
    "num =10 \n",
    "for i in range(4,20):\n",
    "    print(f\"{num} x {i} = {num*i}\")"
   ]
  },
  {
   "cell_type": "code",
   "execution_count": null,
   "id": "1fbda4cd",
   "metadata": {},
   "outputs": [],
   "source": []
  }
 ],
 "metadata": {
  "kernelspec": {
   "display_name": "Python 3",
   "language": "python",
   "name": "python3"
  },
  "language_info": {
   "codemirror_mode": {
    "name": "ipython",
    "version": 3
   },
   "file_extension": ".py",
   "mimetype": "text/x-python",
   "name": "python",
   "nbconvert_exporter": "python",
   "pygments_lexer": "ipython3",
   "version": "3.13.3"
  }
 },
 "nbformat": 4,
 "nbformat_minor": 5
}
